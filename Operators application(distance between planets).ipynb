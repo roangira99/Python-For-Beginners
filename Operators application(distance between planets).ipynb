{
 "cells": [
  {
   "cell_type": "code",
   "execution_count": 8,
   "id": "46cd90b7",
   "metadata": {},
   "outputs": [
    {
     "name": "stdout",
     "output_type": "stream",
     "text": [
      "Enter distance between first planet and the sun in KM: 2872500000\n",
      "Enter distance between second planet and the sun in KM: 4495100000\n"
     ]
    }
   ],
   "source": [
    "first_planet_input = input(\"Enter distance between first planet and the sun in KM: \")\n",
    "second_planet_input = input(\"Enter distance between second planet and the sun in KM: \")"
   ]
  },
  {
   "cell_type": "code",
   "execution_count": 9,
   "id": "21f7f142",
   "metadata": {},
   "outputs": [],
   "source": [
    "first_planet = int(first_planet_input)\n",
    "second_planet = int(second_planet_input)"
   ]
  },
  {
   "cell_type": "code",
   "execution_count": 10,
   "id": "afa0cf84",
   "metadata": {},
   "outputs": [
    {
     "name": "stdout",
     "output_type": "stream",
     "text": [
      "1622600000\n"
     ]
    }
   ],
   "source": [
    "distance_km = second_planet - first_planet\n",
    "print(abs(distance_km))"
   ]
  },
  {
   "cell_type": "code",
   "execution_count": null,
   "id": "332bc8fe",
   "metadata": {},
   "outputs": [],
   "source": []
  }
 ],
 "metadata": {
  "kernelspec": {
   "display_name": "Python 3",
   "language": "python",
   "name": "python3"
  },
  "language_info": {
   "codemirror_mode": {
    "name": "ipython",
    "version": 3
   },
   "file_extension": ".py",
   "mimetype": "text/x-python",
   "name": "python",
   "nbconvert_exporter": "python",
   "pygments_lexer": "ipython3",
   "version": "3.8.5"
  }
 },
 "nbformat": 4,
 "nbformat_minor": 5
}
